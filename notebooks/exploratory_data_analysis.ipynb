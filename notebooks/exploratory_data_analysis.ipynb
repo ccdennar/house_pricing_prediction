{
 "cells": [
  {
   "cell_type": "markdown",
   "id": "9d5c85f5",
   "metadata": {},
   "source": [
    "# Exploratory Data Analysis for House Price Prediction\n",
    "\n",
    "This notebook performs exploratory data analysis (EDA) on the housing dataset to understand its features, distributions, and relationships, guiding preprocessing and linear regression modeling.\n",
    "\n",
    "##  Import Libraries\n",
    "```python\n",
    "import pandas as pd\n",
    "import matplotlib.pyplot as plt\n",
    "import seaborn as sns\n",
    "%matplotlib inline\n",
    "\n",
    "# Shape, data types, missing values, and summary statistics\n",
    "print(\"Dataset Shape:\", df.shape)\n",
    "print(\"\\nData Types:\\n\", df.dtypes)\n",
    "print(\"\\nMissing Values:\\n\", df.isnull().sum())\n",
    "print(\"\\nSummary Statistics:\\n\", df.describe())\n",
    "\n",
    "\n",
    "# Distribution of house prices\n",
    "plt.figure(figsize=(8, 6))\n",
    "sns.histplot(df['price'], kde=True, bins=30)\n",
    "plt.title('Distribution of House Prices')\n",
    "plt.xlabel('Price')\n",
    "plt.ylabel('Frequency')\n",
    "plt.show()\n",
    "\n",
    "# Scatter plot: Price vs. Number of Rooms (RM in Boston Housing, adjust if needed)\n",
    "plt.figure(figsize=(8, 6))\n",
    "plt.scatter(df['RM'], df['price'], alpha=0.5)\n",
    "plt.title('Price vs. Number of Rooms')\n",
    "plt.xlabel('Number of Rooms (RM)')\n",
    "plt.ylabel('Price')\n",
    "plt.show()\n",
    "\n",
    "# Scatter plot: Price vs. Lower Status Population (LSTAT, adjust if needed)\n",
    "plt.figure(figsize=(8, 6))\n",
    "plt.scatter(df['LSTAT'], df['price'], alpha=0.5)\n",
    "plt.title('Price vs. Lower Status Population (LSTAT)')\n",
    "plt.xlabel('Lower Status Population (LSTAT)')\n",
    "plt.ylabel('Price')\n",
    "plt.show()\n",
    "\n",
    "# Correlation heatmap\n",
    "plt.figure(figsize=(10, 8))\n",
    "sns.heatmap(df.corr(), annot=True, cmap='coolwarm', fmt='.2f')\n",
    "plt.title('Correlation Matrix')\n",
    "plt.show()\n",
    "\n",
    "# Skewness of numerical features\n",
    "print(\"\\nSkewness of Features:\\n\", df.skew())\n"
   ]
  }
 ],
 "metadata": {
  "language_info": {
   "name": "python"
  }
 },
 "nbformat": 4,
 "nbformat_minor": 5
}
